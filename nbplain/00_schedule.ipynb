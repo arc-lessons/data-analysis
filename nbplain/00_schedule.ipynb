{
 "cells": [
  {
   "cell_type": "markdown",
   "metadata": {
    "slideshow": {
     "slide_type": "slide"
    }
   },
   "source": [
    "# Introduction to working with data and plotting\n",
    "\n",
    "This lesson introduces some techniques for working with data sets and producing plots. It covers:\n",
    "* A brief introduction to Jupyter notebooks.\n",
    "* Introduction to NumPy.\n",
    "* Introduction to Pandas.\n",
    "* Introduction to matplotlib."
   ]
  },
  {
   "cell_type": "markdown",
   "metadata": {
    "slideshow": {
     "slide_type": "slide"
    }
   },
   "source": [
    "## Prerequisites\n",
    "\n",
    "In order to complete the lesson you should be familar with the content of the course:\n",
    "* Introduction to Python"
   ]
  },
  {
   "cell_type": "markdown",
   "metadata": {
    "slideshow": {
     "slide_type": "slide"
    }
   },
   "source": [
    "## Schedule\n",
    "Approximate timings for the lesson:\n",
    "\n",
    "| Time | Episode | Description |\n",
    "|---|---|---|\n",
    "| 0:00 | [Pandas Introduction](./01_pandas.ipynb) | An introduction to pandas |\n",
    "| 0:20 | [Reading a file with pandas](./02_pandas_read.ipynb) | How to read data files into pandas |\n",
    "| 0:40 | [Opening web data with pandas](./03_pandas_web.ipynb) | Opening data directly from the web in pandas |\n",
    "| 1:00 | [Analysing data with pandas](./04_pandas_fit.ipynb) | Fit data in pandas using `numpy` |\n",
    "| X:XX | [Plotting with pandas](./05_pandas_plot.ipynb) | More plots using matplotlib with pandas |\n",
    "| 2:00 | Finish | |"
   ]
  },
  {
   "cell_type": "markdown",
   "metadata": {
    "slideshow": {
     "slide_type": "slide"
    }
   },
   "source": [
    "## Setup:\n",
    "\n",
    "Log on to the server for today's course at https://python.jupyterhub.bath.ac.uk.  Open the Welcome.ipynb notebook and follow the instructions to setup the `data-analysis` course.  You will also use this folder to store the notebooks we will generate during the lesson."
   ]
  }
 ],
 "metadata": {
  "celltoolbar": "Slideshow",
  "kernelspec": {
   "display_name": "Python 3",
   "language": "python",
   "name": "python3"
  },
  "language_info": {
   "codemirror_mode": {
    "name": "ipython",
    "version": 3
   },
   "file_extension": ".py",
   "mimetype": "text/x-python",
   "name": "python",
   "nbconvert_exporter": "python",
   "pygments_lexer": "ipython3",
   "version": "3.8.3"
  }
 },
 "nbformat": 4,
 "nbformat_minor": 2
}
